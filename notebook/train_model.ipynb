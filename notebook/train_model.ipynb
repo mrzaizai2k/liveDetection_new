{
 "cells": [
  {
   "cell_type": "code",
   "execution_count": 1,
   "metadata": {},
   "outputs": [
    {
     "name": "stdout",
     "output_type": "stream",
     "text": [
      "/home/mrzaizai2k/code_Bao/livenessDetection/notebook\n"
     ]
    }
   ],
   "source": [
    "import os\n",
    "try:\n",
    "    print(file_path)\n",
    "except:\n",
    "    file_path = os.path.abspath('')\n",
    "    os.chdir(os.path.dirname(file_path))\n",
    "    print(file_path)"
   ]
  },
  {
   "cell_type": "code",
   "execution_count": 2,
   "metadata": {},
   "outputs": [
    {
     "name": "stderr",
     "output_type": "stream",
     "text": [
      "2024-03-18 22:03:43.128858: I tensorflow/core/util/port.cc:110] oneDNN custom operations are on. You may see slightly different numerical results due to floating-point round-off errors from different computation orders. To turn them off, set the environment variable `TF_ENABLE_ONEDNN_OPTS=0`.\n",
      "2024-03-18 22:03:43.130271: I tensorflow/tsl/cuda/cudart_stub.cc:28] Could not find cuda drivers on your machine, GPU will not be used.\n",
      "2024-03-18 22:03:43.158520: I tensorflow/tsl/cuda/cudart_stub.cc:28] Could not find cuda drivers on your machine, GPU will not be used.\n",
      "2024-03-18 22:03:43.159359: I tensorflow/core/platform/cpu_feature_guard.cc:182] This TensorFlow binary is optimized to use available CPU instructions in performance-critical operations.\n",
      "To enable the following instructions: AVX2 AVX_VNNI FMA, in other operations, rebuild TensorFlow with the appropriate compiler flags.\n",
      "2024-03-18 22:03:43.590050: W tensorflow/compiler/tf2tensorrt/utils/py_utils.cc:38] TF-TRT Warning: Could not find TensorRT\n"
     ]
    }
   ],
   "source": [
    "import matplotlib.pyplot as plt\n",
    "import numpy as np\n",
    "\n",
    "import tensorflow as tf\n",
    "from tensorflow import keras\n",
    "from keras.optimizers import Adam\n",
    "from src.pyimagesearch.livenessnet import LivenessNet"
   ]
  },
  {
   "cell_type": "markdown",
   "metadata": {},
   "source": [
    "# PREPROCESSING DATA"
   ]
  },
  {
   "cell_type": "code",
   "execution_count": 3,
   "metadata": {},
   "outputs": [],
   "source": [
    "INIT_LR = 1e-3\n",
    "DECAY_STEPS=500,\n",
    "DECAY_RATE=0.9,\n",
    "\n",
    "EPOCHS = 100\n",
    "batch_size = 8\n",
    "img_height = 32\n",
    "img_width = 32\n",
    "PATIENCE = 10\n",
    "\n",
    "liveness_model_path=\"models/liveness\"\n",
    "data_dir = \"dataset\"\n"
   ]
  },
  {
   "cell_type": "code",
   "execution_count": 4,
   "metadata": {},
   "outputs": [
    {
     "name": "stdout",
     "output_type": "stream",
     "text": [
      "Found 3635 files belonging to 2 classes.\n",
      "Using 2908 files for training.\n",
      "Found 3635 files belonging to 2 classes.\n",
      "Using 727 files for validation.\n"
     ]
    },
    {
     "name": "stderr",
     "output_type": "stream",
     "text": [
      "2024-03-18 22:03:44.285978: I tensorflow/compiler/xla/stream_executor/cuda/cuda_gpu_executor.cc:981] could not open file to read NUMA node: /sys/bus/pci/devices/0000:01:00.0/numa_node\n",
      "Your kernel may have been built without NUMA support.\n",
      "2024-03-18 22:03:44.286177: W tensorflow/core/common_runtime/gpu/gpu_device.cc:1960] Cannot dlopen some GPU libraries. Please make sure the missing libraries mentioned above are installed properly if you would like to use GPU. Follow the guide at https://www.tensorflow.org/install/gpu for how to download and setup the required libraries for your platform.\n",
      "Skipping registering GPU devices...\n"
     ]
    }
   ],
   "source": [
    "\n",
    "train_ds = tf.keras.utils.image_dataset_from_directory(\n",
    "  data_dir,\n",
    "  validation_split=0.2,\n",
    "  subset=\"training\",\n",
    "  seed=123,\n",
    "  image_size=(img_height, img_width),\n",
    "  batch_size=batch_size)\n",
    "\n",
    "val_ds = tf.keras.utils.image_dataset_from_directory(\n",
    "  data_dir,\n",
    "  validation_split=0.2,\n",
    "  subset=\"validation\",\n",
    "  seed=123,\n",
    "  image_size=(img_height, img_width),\n",
    "  batch_size=batch_size)\n"
   ]
  },
  {
   "cell_type": "code",
   "execution_count": 5,
   "metadata": {},
   "outputs": [
    {
     "name": "stdout",
     "output_type": "stream",
     "text": [
      "['fake', 'real']\n"
     ]
    }
   ],
   "source": [
    "class_names = train_ds.class_names\n",
    "num_classes = len(class_names)\n",
    "print(class_names)"
   ]
  },
  {
   "cell_type": "markdown",
   "metadata": {},
   "source": [
    "Make sure to use buffered prefetching, so you can yield data from disk without having I/O become blocking. These are two important methods you should use when loading data:\n",
    "\n",
    "* Dataset.cache keeps the images in memory after they're loaded off disk during the first epoch. This will ensure the dataset does not become a bottleneck while training your model. If your dataset is too large to fit into memory, you can also use this method to create a performant on-disk cache.\n",
    "\n",
    "* Dataset.prefetch overlaps data preprocessing and model execution while training.\n",
    "Interested readers can learn more about both methods, as well as how to cache data to disk in the Prefetching section of the Better performance with the tf.data API guide."
   ]
  },
  {
   "cell_type": "code",
   "execution_count": 6,
   "metadata": {},
   "outputs": [],
   "source": [
    "AUTOTUNE = tf.data.AUTOTUNE\n",
    "\n",
    "train_ds = train_ds.cache().shuffle(1000).prefetch(buffer_size=AUTOTUNE)\n",
    "val_ds = val_ds.cache().prefetch(buffer_size=AUTOTUNE)"
   ]
  },
  {
   "cell_type": "markdown",
   "metadata": {},
   "source": [
    "# TRAINING"
   ]
  },
  {
   "cell_type": "code",
   "execution_count": 7,
   "metadata": {},
   "outputs": [
    {
     "name": "stdout",
     "output_type": "stream",
     "text": [
      "[INFO] compiling model...\n",
      "Model: \"sequential_1\"\n",
      "_________________________________________________________________\n",
      " Layer (type)                Output Shape              Param #   \n",
      "=================================================================\n",
      " sequential (Sequential)     (None, 32, 32, 3)         0         \n",
      "                                                                 \n",
      " rescaling (Rescaling)       (None, 32, 32, 3)         0         \n",
      "                                                                 \n",
      " resnet50 (Functional)       (None, None, None, 2048   23587712  \n",
      "                             )                                   \n",
      "                                                                 \n",
      " flatten (Flatten)           (None, 2048)              0         \n",
      "                                                                 \n",
      " dense (Dense)               (None, 2048)              4196352   \n",
      "                                                                 \n",
      " dense_1 (Dense)             (None, 512)               1049088   \n",
      "                                                                 \n",
      " dense_2 (Dense)             (None, 64)                32832     \n",
      "                                                                 \n",
      " fc2 (Dense)                 (None, 2)                 130       \n",
      "                                                                 \n",
      "=================================================================\n",
      "Total params: 28866114 (110.12 MB)\n",
      "Trainable params: 28812994 (109.91 MB)\n",
      "Non-trainable params: 53120 (207.50 KB)\n",
      "_________________________________________________________________\n"
     ]
    }
   ],
   "source": [
    "\n",
    "print(\"[INFO] compiling model...\")\n",
    "\n",
    "lr_schedule = tf.keras.optimizers.schedules.ExponentialDecay(\n",
    "    INIT_LR,\n",
    "    decay_steps=DECAY_STEPS,\n",
    "    decay_rate=DECAY_RATE,\n",
    "    staircase=True)\n",
    "\n",
    "opt = Adam(learning_rate=lr_schedule)\n",
    "\n",
    "model = LivenessNet.build(width=img_width, height=img_height, depth=3, classes=num_classes)\n",
    "model.summary()\n",
    "\n",
    "# model.compile(loss=\"binary_crossentropy\", optimizer=opt,\n",
    "# \tmetrics=[\"accuracy\"])\n"
   ]
  },
  {
   "cell_type": "code",
   "execution_count": 8,
   "metadata": {},
   "outputs": [],
   "source": [
    "model.compile(optimizer=opt,\n",
    "              loss=tf.keras.losses.SparseCategoricalCrossentropy(from_logits=True),\n",
    "              metrics=['accuracy'])"
   ]
  },
  {
   "cell_type": "code",
   "execution_count": 9,
   "metadata": {},
   "outputs": [
    {
     "name": "stdout",
     "output_type": "stream",
     "text": [
      "Epoch 1/100\n"
     ]
    },
    {
     "name": "stdout",
     "output_type": "stream",
     "text": [
      "364/364 [==============================] - 85s 207ms/step - loss: 0.5522 - accuracy: 0.7765 - val_loss: 1.8670 - val_accuracy: 0.3659\n",
      "Epoch 2/100\n",
      "364/364 [==============================] - 71s 196ms/step - loss: 0.4636 - accuracy: 0.8054 - val_loss: 0.5386 - val_accuracy: 0.8748\n",
      "Epoch 3/100\n",
      "364/364 [==============================] - 69s 191ms/step - loss: 0.3787 - accuracy: 0.8576 - val_loss: 0.5041 - val_accuracy: 0.7552\n",
      "Epoch 4/100\n",
      "364/364 [==============================] - 78s 213ms/step - loss: 0.3710 - accuracy: 0.8573 - val_loss: 5.8846 - val_accuracy: 0.6795\n",
      "Epoch 5/100\n",
      "364/364 [==============================] - 88s 243ms/step - loss: 0.4081 - accuracy: 0.8473 - val_loss: 0.4563 - val_accuracy: 0.8253\n",
      "Epoch 6/100\n",
      "364/364 [==============================] - 84s 231ms/step - loss: 0.5277 - accuracy: 0.7534 - val_loss: 0.6679 - val_accuracy: 0.7345\n",
      "Epoch 7/100\n",
      "364/364 [==============================] - 81s 224ms/step - loss: 0.4198 - accuracy: 0.8122 - val_loss: 1.5371 - val_accuracy: 0.6259\n",
      "Epoch 8/100\n",
      "364/364 [==============================] - 82s 227ms/step - loss: 0.5298 - accuracy: 0.7424 - val_loss: 0.6651 - val_accuracy: 0.5461\n",
      "Epoch 9/100\n",
      "364/364 [==============================] - 82s 226ms/step - loss: 0.4689 - accuracy: 0.7920 - val_loss: 0.4534 - val_accuracy: 0.8776\n",
      "Epoch 10/100\n",
      "364/364 [==============================] - 83s 227ms/step - loss: 0.4189 - accuracy: 0.8263 - val_loss: 0.2672 - val_accuracy: 0.8900\n",
      "Epoch 11/100\n",
      "364/364 [==============================] - 82s 226ms/step - loss: 0.3784 - accuracy: 0.8415 - val_loss: 0.5225 - val_accuracy: 0.8721\n",
      "Epoch 12/100\n",
      "364/364 [==============================] - 86s 238ms/step - loss: 0.3519 - accuracy: 0.8566 - val_loss: 0.2855 - val_accuracy: 0.8941\n",
      "Epoch 13/100\n",
      "364/364 [==============================] - 85s 234ms/step - loss: 0.3414 - accuracy: 0.8600 - val_loss: 1.2372 - val_accuracy: 0.7208\n",
      "Epoch 14/100\n",
      "364/364 [==============================] - 87s 239ms/step - loss: 0.3815 - accuracy: 0.8456 - val_loss: 7.6934 - val_accuracy: 0.6891\n",
      "Epoch 15/100\n",
      "364/364 [==============================] - 86s 235ms/step - loss: 0.4010 - accuracy: 0.8411 - val_loss: 0.3578 - val_accuracy: 0.9106\n",
      "Epoch 16/100\n",
      "364/364 [==============================] - 84s 231ms/step - loss: 0.3686 - accuracy: 0.8504 - val_loss: 0.2954 - val_accuracy: 0.9395\n",
      "Epoch 17/100\n",
      "364/364 [==============================] - 85s 233ms/step - loss: 0.3248 - accuracy: 0.8759 - val_loss: 0.2351 - val_accuracy: 0.9491\n",
      "Epoch 18/100\n",
      "364/364 [==============================] - 86s 235ms/step - loss: 0.3148 - accuracy: 0.8790 - val_loss: 1.8463 - val_accuracy: 0.8955\n",
      "Epoch 19/100\n",
      "364/364 [==============================] - 86s 237ms/step - loss: 0.4929 - accuracy: 0.7610 - val_loss: 0.4760 - val_accuracy: 0.8473\n",
      "Epoch 20/100\n",
      "364/364 [==============================] - 86s 236ms/step - loss: 0.4154 - accuracy: 0.8126 - val_loss: 0.6954 - val_accuracy: 0.7868\n",
      "Epoch 21/100\n",
      "364/364 [==============================] - 86s 236ms/step - loss: 0.3915 - accuracy: 0.8191 - val_loss: 0.8194 - val_accuracy: 0.8033\n",
      "Epoch 22/100\n",
      "364/364 [==============================] - 87s 238ms/step - loss: 0.3800 - accuracy: 0.8287 - val_loss: 0.2420 - val_accuracy: 0.8982\n",
      "Epoch 23/100\n",
      "364/364 [==============================] - 86s 236ms/step - loss: 0.3578 - accuracy: 0.8532 - val_loss: 0.2236 - val_accuracy: 0.9037\n",
      "Epoch 24/100\n",
      "364/364 [==============================] - 86s 236ms/step - loss: 0.3456 - accuracy: 0.8607 - val_loss: 0.1934 - val_accuracy: 0.9326\n",
      "Epoch 25/100\n",
      "364/364 [==============================] - 85s 233ms/step - loss: 0.3263 - accuracy: 0.8700 - val_loss: 0.1888 - val_accuracy: 0.9409\n",
      "Epoch 26/100\n",
      "364/364 [==============================] - 84s 230ms/step - loss: 0.3091 - accuracy: 0.8748 - val_loss: 0.1902 - val_accuracy: 0.9312\n",
      "Epoch 27/100\n",
      "364/364 [==============================] - 85s 233ms/step - loss: 0.3236 - accuracy: 0.8693 - val_loss: 0.1674 - val_accuracy: 0.9505\n",
      "Epoch 28/100\n",
      "364/364 [==============================] - 86s 237ms/step - loss: 0.2951 - accuracy: 0.8824 - val_loss: 0.1680 - val_accuracy: 0.9312\n",
      "Epoch 29/100\n",
      "364/364 [==============================] - 85s 233ms/step - loss: 0.2694 - accuracy: 0.8951 - val_loss: 0.1653 - val_accuracy: 0.9340\n",
      "Epoch 30/100\n",
      "364/364 [==============================] - 86s 235ms/step - loss: 0.2498 - accuracy: 0.9023 - val_loss: 1.0008 - val_accuracy: 0.8721\n",
      "Epoch 31/100\n",
      "364/364 [==============================] - 87s 240ms/step - loss: 0.2318 - accuracy: 0.9133 - val_loss: 0.1788 - val_accuracy: 0.9367\n",
      "Epoch 32/100\n",
      "364/364 [==============================] - 87s 240ms/step - loss: 0.2630 - accuracy: 0.9006 - val_loss: 0.1331 - val_accuracy: 0.9656\n",
      "Epoch 33/100\n",
      "364/364 [==============================] - 84s 231ms/step - loss: 0.2345 - accuracy: 0.9044 - val_loss: 0.1253 - val_accuracy: 0.9615\n",
      "Epoch 34/100\n",
      "364/364 [==============================] - 84s 232ms/step - loss: 0.2183 - accuracy: 0.9161 - val_loss: 0.1373 - val_accuracy: 0.9642\n",
      "Epoch 35/100\n",
      "364/364 [==============================] - 84s 231ms/step - loss: 0.2312 - accuracy: 0.9078 - val_loss: 0.1463 - val_accuracy: 0.9574\n",
      "Epoch 36/100\n",
      "364/364 [==============================] - 85s 233ms/step - loss: 0.2017 - accuracy: 0.9247 - val_loss: 0.1511 - val_accuracy: 0.9519\n",
      "Epoch 37/100\n",
      "364/364 [==============================] - 86s 235ms/step - loss: 0.2075 - accuracy: 0.9206 - val_loss: 0.2987 - val_accuracy: 0.9505\n",
      "Epoch 38/100\n",
      "364/364 [==============================] - 83s 228ms/step - loss: 0.2148 - accuracy: 0.9213 - val_loss: 1.0115 - val_accuracy: 0.9367\n",
      "Epoch 39/100\n",
      "364/364 [==============================] - 80s 220ms/step - loss: 0.2235 - accuracy: 0.9147 - val_loss: 0.1422 - val_accuracy: 0.9491\n",
      "Epoch 40/100\n",
      "364/364 [==============================] - 80s 220ms/step - loss: 0.2199 - accuracy: 0.9209 - val_loss: 0.1328 - val_accuracy: 0.9477\n",
      "Epoch 41/100\n",
      "364/364 [==============================] - 79s 217ms/step - loss: 0.2220 - accuracy: 0.9133 - val_loss: 0.1236 - val_accuracy: 0.9519\n",
      "Epoch 42/100\n",
      "364/364 [==============================] - 80s 220ms/step - loss: 0.2043 - accuracy: 0.9247 - val_loss: 0.1279 - val_accuracy: 0.9491\n",
      "Epoch 43/100\n",
      "364/364 [==============================] - 79s 217ms/step - loss: 0.1953 - accuracy: 0.9247 - val_loss: 0.1249 - val_accuracy: 0.9560\n",
      "Epoch 44/100\n",
      "364/364 [==============================] - 79s 217ms/step - loss: 0.2022 - accuracy: 0.9223 - val_loss: 0.1201 - val_accuracy: 0.9519\n",
      "Epoch 45/100\n",
      "364/364 [==============================] - 79s 218ms/step - loss: 0.1998 - accuracy: 0.9223 - val_loss: 0.1154 - val_accuracy: 0.9574\n",
      "Epoch 46/100\n",
      "364/364 [==============================] - 79s 217ms/step - loss: 0.1871 - accuracy: 0.9271 - val_loss: 0.1142 - val_accuracy: 0.9532\n",
      "Epoch 47/100\n",
      "364/364 [==============================] - 79s 216ms/step - loss: 0.1707 - accuracy: 0.9350 - val_loss: 0.1299 - val_accuracy: 0.9574\n",
      "Epoch 48/100\n",
      "364/364 [==============================] - 78s 214ms/step - loss: 0.1814 - accuracy: 0.9340 - val_loss: 0.5155 - val_accuracy: 0.9422\n",
      "Epoch 49/100\n",
      "364/364 [==============================] - 80s 221ms/step - loss: 0.1720 - accuracy: 0.9302 - val_loss: 0.3473 - val_accuracy: 0.9450\n",
      "Epoch 50/100\n",
      "364/364 [==============================] - 78s 215ms/step - loss: 0.1698 - accuracy: 0.9360 - val_loss: 0.9288 - val_accuracy: 0.9381\n",
      "Epoch 51/100\n",
      "364/364 [==============================] - 77s 213ms/step - loss: 0.1591 - accuracy: 0.9433 - val_loss: 0.3098 - val_accuracy: 0.9532\n",
      "Epoch 52/100\n",
      "364/364 [==============================] - 77s 212ms/step - loss: 0.1483 - accuracy: 0.9484 - val_loss: 0.6113 - val_accuracy: 0.9409\n",
      "Epoch 53/100\n",
      "364/364 [==============================] - 77s 212ms/step - loss: 0.1589 - accuracy: 0.9367 - val_loss: 1.0253 - val_accuracy: 0.9436\n",
      "Epoch 54/100\n",
      "364/364 [==============================] - 77s 212ms/step - loss: 0.1634 - accuracy: 0.9402 - val_loss: 0.0974 - val_accuracy: 0.9656\n",
      "Epoch 55/100\n",
      "364/364 [==============================] - 77s 212ms/step - loss: 0.1528 - accuracy: 0.9474 - val_loss: 0.0963 - val_accuracy: 0.9642\n",
      "Epoch 56/100\n",
      "364/364 [==============================] - 78s 214ms/step - loss: 0.1678 - accuracy: 0.9360 - val_loss: 0.1038 - val_accuracy: 0.9560\n",
      "Epoch 57/100\n",
      "364/364 [==============================] - 80s 220ms/step - loss: 0.1599 - accuracy: 0.9436 - val_loss: 0.1059 - val_accuracy: 0.9560\n",
      "Epoch 58/100\n",
      "364/364 [==============================] - 79s 217ms/step - loss: 0.1491 - accuracy: 0.9453 - val_loss: 0.1010 - val_accuracy: 0.9560\n",
      "Epoch 59/100\n",
      "364/364 [==============================] - 79s 216ms/step - loss: 0.1633 - accuracy: 0.9329 - val_loss: 0.0975 - val_accuracy: 0.9601\n",
      "Epoch 60/100\n",
      "364/364 [==============================] - 78s 216ms/step - loss: 0.1515 - accuracy: 0.9443 - val_loss: 0.1095 - val_accuracy: 0.9587\n",
      "Epoch 61/100\n",
      "364/364 [==============================] - 78s 216ms/step - loss: 0.1467 - accuracy: 0.9484 - val_loss: 0.1022 - val_accuracy: 0.9587\n",
      "Epoch 62/100\n",
      "364/364 [==============================] - 75s 206ms/step - loss: 0.1504 - accuracy: 0.9453 - val_loss: 0.1098 - val_accuracy: 0.9601\n",
      "Epoch 63/100\n",
      "364/364 [==============================] - 67s 183ms/step - loss: 0.1464 - accuracy: 0.9436 - val_loss: 0.0972 - val_accuracy: 0.9601\n",
      "Epoch 64/100\n",
      "364/364 [==============================] - 67s 183ms/step - loss: 0.1458 - accuracy: 0.9453 - val_loss: 0.0988 - val_accuracy: 0.9601\n",
      "Epoch 65/100\n",
      "364/364 [==============================] - 67s 183ms/step - loss: 0.1455 - accuracy: 0.9488 - val_loss: 0.0966 - val_accuracy: 0.9587\n"
     ]
    }
   ],
   "source": [
    "history = model.fit(\n",
    "  train_ds,\n",
    "  validation_data=val_ds,\n",
    "  epochs=EPOCHS,\n",
    "  callbacks=[keras.callbacks.EarlyStopping(monitor='val_loss', patience=PATIENCE, restore_best_weights=True)],\n",
    "\n",
    ")"
   ]
  },
  {
   "cell_type": "markdown",
   "metadata": {},
   "source": [
    "# TESTING"
   ]
  },
  {
   "cell_type": "code",
   "execution_count": 10,
   "metadata": {},
   "outputs": [
    {
     "name": "stdout",
     "output_type": "stream",
     "text": [
      "1/1 [==============================] - 1s 807ms/step\n",
      "predictions [[ 3.9607782 -0.63957  ]]\n",
      "This image most likely belongs to fake with a 99.01 percent confidence.\n"
     ]
    }
   ],
   "source": [
    "face_path = \"test_images/28.png\"\n",
    "\n",
    "img = tf.keras.utils.load_img(\n",
    "    face_path, target_size=(img_height, img_width)\n",
    ")\n",
    "img_array = tf.keras.utils.img_to_array(img)\n",
    "img_array = tf.expand_dims(img_array, 0) # Create a batch\n",
    "\n",
    "predictions = model.predict(img_array)\n",
    "print(\"predictions\", predictions)\n",
    "score = tf.nn.softmax(predictions[0])\n",
    "\n",
    "print(\n",
    "    \"This image most likely belongs to {} with a {:.2f} percent confidence.\"\n",
    "    .format(class_names[np.argmax(score)], 100 * np.max(score))\n",
    ")\n"
   ]
  },
  {
   "cell_type": "markdown",
   "metadata": {},
   "source": [
    "# Save models"
   ]
  },
  {
   "cell_type": "code",
   "execution_count": 11,
   "metadata": {},
   "outputs": [
    {
     "name": "stdout",
     "output_type": "stream",
     "text": [
      "INFO:tensorflow:Assets written to: /tmp/tmpfnp13hsm/assets\n"
     ]
    },
    {
     "name": "stderr",
     "output_type": "stream",
     "text": [
      "INFO:tensorflow:Assets written to: /tmp/tmpfnp13hsm/assets\n",
      "2024-03-18 23:31:59.916813: W tensorflow/compiler/mlir/lite/python/tf_tfl_flatbuffer_helpers.cc:364] Ignored output_format.\n",
      "2024-03-18 23:31:59.916903: W tensorflow/compiler/mlir/lite/python/tf_tfl_flatbuffer_helpers.cc:367] Ignored drop_control_dependency.\n",
      "2024-03-18 23:31:59.919277: I tensorflow/cc/saved_model/reader.cc:45] Reading SavedModel from: /tmp/tmpfnp13hsm\n",
      "2024-03-18 23:31:59.940231: I tensorflow/cc/saved_model/reader.cc:91] Reading meta graph with tags { serve }\n",
      "2024-03-18 23:31:59.940264: I tensorflow/cc/saved_model/reader.cc:132] Reading SavedModel debug info (if present) from: /tmp/tmpfnp13hsm\n",
      "2024-03-18 23:32:00.066555: I tensorflow/compiler/mlir/mlir_graph_optimization_pass.cc:375] MLIR V1 optimization pass is not enabled\n",
      "2024-03-18 23:32:00.090625: I tensorflow/cc/saved_model/loader.cc:231] Restoring SavedModel bundle.\n",
      "2024-03-18 23:32:00.906343: I tensorflow/cc/saved_model/loader.cc:215] Running initialization op on SavedModel bundle at path: /tmp/tmpfnp13hsm\n",
      "2024-03-18 23:32:01.104824: I tensorflow/cc/saved_model/loader.cc:314] SavedModel load for tags { serve }; Status: success: OK. Took 1185528 microseconds.\n",
      "2024-03-18 23:32:01.348340: I tensorflow/compiler/mlir/tensorflow/utils/dump_mlir_util.cc:255] disabling MLIR crash reproducer, set env var `MLIR_CRASH_REPRODUCER_DIRECTORY` to enable.\n"
     ]
    },
    {
     "name": "stdout",
     "output_type": "stream",
     "text": [
      "Tflite model saved in\n"
     ]
    }
   ],
   "source": [
    "\n",
    "# Convert the model.\n",
    "converter = tf.lite.TFLiteConverter.from_keras_model(model)\n",
    "tflite_model = converter.convert()\n",
    "\n",
    "# Save the model.\n",
    "with open(f'{liveness_model_path}/model.tflite', 'wb') as f:\n",
    "    f.write(tflite_model)\n",
    "    print (f\"Tflite model saved in\")"
   ]
  },
  {
   "cell_type": "code",
   "execution_count": 12,
   "metadata": {},
   "outputs": [
    {
     "name": "stderr",
     "output_type": "stream",
     "text": [
      "/home/mrzaizai2k/code_Bao/livenessDetection/.venv/lib/python3.8/site-packages/keras/src/engine/training.py:3000: UserWarning: You are saving your model as an HDF5 file via `model.save()`. This file format is considered legacy. We recommend using instead the native Keras format, e.g. `model.save('my_model.keras')`.\n",
      "  saving_api.save_model(\n"
     ]
    },
    {
     "name": "stdout",
     "output_type": "stream",
     "text": [
      "\n",
      "saved model h5\n"
     ]
    }
   ],
   "source": [
    "\n",
    "model.save(f\"{liveness_model_path}/saved_model.h5\")\n",
    "print(\"\\nsaved model h5\")"
   ]
  },
  {
   "cell_type": "markdown",
   "metadata": {},
   "source": [
    "# Plot Training"
   ]
  },
  {
   "cell_type": "code",
   "execution_count": 13,
   "metadata": {},
   "outputs": [],
   "source": [
    "acc = history.history['accuracy']\n",
    "val_acc = history.history['val_accuracy']\n",
    "\n",
    "loss = history.history['loss']\n",
    "val_loss = history.history['val_loss']\n",
    "\n",
    "epochs_range = range(0, len(history.history['accuracy']))"
   ]
  },
  {
   "cell_type": "code",
   "execution_count": 14,
   "metadata": {},
   "outputs": [
    {
     "data": {
      "image/png": "[encoded data removed]",
      "text/plain": [
       "<Figure size 800x800 with 2 Axes>"
      ]
     },
     "metadata": {},
     "output_type": "display_data"
    }
   ],
   "source": [
    "plt.figure(figsize=(8, 8))\n",
    "plt.subplot(1, 2, 1)\n",
    "plt.plot(epochs_range, acc, label='Training Accuracy')\n",
    "plt.plot(epochs_range, val_acc, label='Validation Accuracy')\n",
    "plt.legend(loc='lower right')\n",
    "plt.title('Training and Validation Accuracy')\n",
    " \n",
    "\n",
    "plt.subplot(1, 2, 2)\n",
    "plt.plot(epochs_range, loss, label='Training Loss')\n",
    "plt.plot(epochs_range, val_loss, label='Validation Loss')\n",
    "plt.legend(loc='upper right')\n",
    "plt.title('Training and Validation Loss')\n",
    "plt.savefig('docs/train.jpg')\n",
    "plt.show()"
   ]
  },
  {
   "cell_type": "markdown",
   "metadata": {},
   "source": [
    "# Test TFLite"
   ]
  },
  {
   "cell_type": "code",
   "execution_count": 15,
   "metadata": {},
   "outputs": [],
   "source": [
    "face_path = \"test_images/28.png\"\n",
    "\n",
    "img = tf.keras.utils.load_img(\n",
    "    face_path, target_size=(img_height, img_width)\n",
    ")\n",
    "img_array = tf.keras.utils.img_to_array(img)\n",
    "img_array = tf.expand_dims(img_array, 0) # Create a batch\n"
   ]
  },
  {
   "cell_type": "code",
   "execution_count": 16,
   "metadata": {},
   "outputs": [
    {
     "name": "stdout",
     "output_type": "stream",
     "text": [
      "{'serving_default': {'inputs': ['sequential_input'], 'outputs': ['fc2']}}\n",
      "classify_lite <tensorflow.lite.python.interpreter.SignatureRunner object at 0x7f13463d84f0>\n",
      "score_lite tf.Tensor([[0.99005157 0.00994839]], shape=(1, 2), dtype=float32)\n",
      "This image most likely belongs to fake with a 99.01 percent confidence.\n"
     ]
    },
    {
     "ename": "",
     "evalue": "",
     "output_type": "error",
     "traceback": [
      "\u001b[1;31mThe Kernel crashed while executing code in the current cell or a previous cell. \n",
      "\u001b[1;31mPlease review the code in the cell(s) to identify a possible cause of the failure. \n",
      "\u001b[1;31mClick <a href='https://aka.ms/vscodeJupyterKernelCrash'>here</a> for more info. \n",
      "\u001b[1;31mView Jupyter <a href='command:jupyter.viewOutput'>log</a> for further details."
     ]
    }
   ],
   "source": [
    "TF_MODEL_FILE_PATH = 'models/liveness/model.tflite' # The default path to the saved TensorFlow Lite model\n",
    "\n",
    "interpreter = tf.lite.Interpreter(model_path=TF_MODEL_FILE_PATH)\n",
    "print(interpreter.get_signature_list())\n",
    "\n",
    "classify_lite = interpreter.get_signature_runner('serving_default')\n",
    "print(\"classify_lite\", classify_lite)\n",
    "\n",
    "predictions_lite = classify_lite(sequential_input=img_array)['fc2']\n",
    "score_lite = tf.nn.softmax(predictions_lite)\n",
    "print(\"score_lite\", score_lite)\n",
    "\n",
    "print(\n",
    "    \"This image most likely belongs to {} with a {:.2f} percent confidence.\"\n",
    "    .format(class_names[np.argmax(score_lite)], 100 * np.max(score_lite))\n",
    ")\n"
   ]
  }
 ],
 "metadata": {
  "kernelspec": {
   "display_name": ".venv",
   "language": "python",
   "name": "python3"
  },
  "language_info": {
   "codemirror_mode": {
    "name": "ipython",
    "version": 3
   },
   "file_extension": ".py",
   "mimetype": "text/x-python",
   "name": "python",
   "nbconvert_exporter": "python",
   "pygments_lexer": "ipython3",
   "version": "3.8.18"
  }
 },
 "nbformat": 4,
 "nbformat_minor": 2
}
